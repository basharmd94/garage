{
 "cells": [
  {
   "cell_type": "markdown",
   "id": "e33f5975",
   "metadata": {},
   "source": [
    "# FastAPI Items API Response Schema Examples\n",
    "\n",
    "This notebook demonstrates example response schemas for all endpoints in the Items API."
   ]
  },
  {
   "cell_type": "markdown",
   "id": "bf1f0614",
   "metadata": {},
   "source": [
    "## Setup\n",
    "\n",
    "First, let's import the required dependencies and set up our example data:"
   ]
  },
  {
   "cell_type": "code",
   "execution_count": null,
   "id": "932edbb4",
   "metadata": {},
   "outputs": [],
   "source": [
    "from typing import List\n",
    "from pydantic import BaseModel\n",
    "import json\n",
    "\n",
    "# Example response classes (same as in schemas/item.py)\n",
    "class ItemImageOut(BaseModel):\n",
    "    id: int\n",
    "    image_url: str\n",
    "\n",
    "class ItemOut(BaseModel):\n",
    "    id: int\n",
    "    name: str\n",
    "    sku: str | None = None\n",
    "    price: float\n",
    "    images: List[ItemImageOut] = []"
   ]
  },
  {
   "cell_type": "markdown",
   "id": "aad9df1d",
   "metadata": {},
   "source": [
    "## 1. POST /items/ - Create Item Response\n",
    "\n",
    "When creating a new item, the response will include the created item with its ID and any attached images:"
   ]
  },
  {
   "cell_type": "code",
   "execution_count": null,
   "id": "cdb82c2b",
   "metadata": {},
   "outputs": [],
   "source": [
    "# Example response for creating an item with images\n",
    "create_item_response = {\n",
    "    \"id\": 1,\n",
    "    \"name\": \"Gaming Mouse\",\n",
    "    \"sku\": \"GM001\",\n",
    "    \"price\": 59.99,\n",
    "    \"images\": [\n",
    "        {\n",
    "            \"id\": 1,\n",
    "            \"image_url\": \"items/1/abc123.jpg\"\n",
    "        }\n",
    "    ]\n",
    "}\n",
    "\n",
    "# Validate response against schema\n",
    "item = ItemOut(**create_item_response)\n",
    "print(\"Create Item Response Example:\")\n",
    "print(json.dumps(create_item_response, indent=2))"
   ]
  },
  {
   "cell_type": "markdown",
   "id": "d3409037",
   "metadata": {},
   "source": [
    "## 2. GET /items/ - List Items Response\n",
    "\n",
    "The list endpoint returns an array of items:"
   ]
  },
  {
   "cell_type": "code",
   "execution_count": null,
   "id": "584f8a55",
   "metadata": {},
   "outputs": [],
   "source": [
    "# Example response for listing items\n",
    "list_items_response = [\n",
    "    {\n",
    "        \"id\": 1,\n",
    "        \"name\": \"Gaming Mouse\",\n",
    "        \"sku\": \"GM001\",\n",
    "        \"price\": 59.99,\n",
    "        \"images\": [\n",
    "            {\n",
    "                \"id\": 1,\n",
    "                \"image_url\": \"items/1/abc123.jpg\"\n",
    "            }\n",
    "        ]\n",
    "    },\n",
    "    {\n",
    "        \"id\": 2,\n",
    "        \"name\": \"Mechanical Keyboard\",\n",
    "        \"sku\": \"KB001\",\n",
    "        \"price\": 129.99,\n",
    "        \"images\": []\n",
    "    }\n",
    "]\n",
    "\n",
    "# Validate response against schema\n",
    "items = [ItemOut(**item) for item in list_items_response]\n",
    "print(\"List Items Response Example:\")\n",
    "print(json.dumps(list_items_response, indent=2))"
   ]
  },
  {
   "cell_type": "markdown",
   "id": "11fb0203",
   "metadata": {},
   "source": [
    "## 3. POST /items/{item_id}/images/upload - Upload Images Response\n",
    "\n",
    "After uploading images, the response includes the updated item with new images:"
   ]
  },
  {
   "cell_type": "code",
   "execution_count": null,
   "id": "2b083daa",
   "metadata": {},
   "outputs": [],
   "source": [
    "# Example response after uploading images\n",
    "upload_images_response = {\n",
    "    \"id\": 1,\n",
    "    \"name\": \"Gaming Mouse\",\n",
    "    \"sku\": \"GM001\",\n",
    "    \"price\": 59.99,\n",
    "    \"images\": [\n",
    "        {\n",
    "            \"id\": 1,\n",
    "            \"image_url\": \"items/1/abc123.jpg\"\n",
    "        },\n",
    "        {\n",
    "            \"id\": 2,\n",
    "            \"image_url\": \"items/1/def456.jpg\"\n",
    "        },\n",
    "        {\n",
    "            \"id\": 3,\n",
    "            \"image_url\": \"items/1/ghi789.jpg\"\n",
    "        }\n",
    "    ]\n",
    "}\n",
    "\n",
    "# Validate response against schema\n",
    "item = ItemOut(**upload_images_response)\n",
    "print(\"Upload Images Response Example:\")\n",
    "print(json.dumps(upload_images_response, indent=2))"
   ]
  },
  {
   "cell_type": "markdown",
   "id": "2d58831f",
   "metadata": {},
   "source": [
    "## Error Responses\n",
    "\n",
    "The API can also return the following error responses:\n",
    "\n",
    "1. SKU Already Exists (400):\n",
    "```json\n",
    "{\n",
    "    \"detail\": \"SKU already exists\"\n",
    "}\n",
    "```\n",
    "\n",
    "2. Item Not Found (404):\n",
    "```json\n",
    "{\n",
    "    \"detail\": \"Item not found\"\n",
    "}\n",
    "```\n",
    "\n",
    "3. Permission Denied (403):\n",
    "```json\n",
    "{\n",
    "    \"detail\": \"Not enough permissions\"\n",
    "}\n",
    "```"
   ]
  }
 ],
 "metadata": {
  "language_info": {
   "name": "python"
  }
 },
 "nbformat": 4,
 "nbformat_minor": 5
}
